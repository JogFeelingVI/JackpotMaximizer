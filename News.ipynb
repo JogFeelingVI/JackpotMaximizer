{
 "cells": [
  {
   "cell_type": "code",
   "execution_count": 1,
   "metadata": {},
   "outputs": [
    {
     "name": "stdout",
     "output_type": "stream",
     "text": [
      "name:    acvalue = True\n",
      "name:     coldns = True\n",
      "name: duplicates = True\n",
      "name:       dx16 = True\n",
      "name:        dzx = True\n",
      "name:      jmsht = True\n",
      "name:    lianhao = True\n",
      "name:      linma = True\n",
      "name:       mod2 = True\n",
      "name:       mod3 = True\n",
      "name:       mod4 = True\n",
      "name:       mod5 = True\n",
      "name:       mod6 = True\n",
      "name:       mod7 = True\n",
      "name:       mod8 = False\n",
      "name:       mod9 = True\n",
      "name: onesixdiff = True\n",
      "name:     sixlan = True\n",
      "name:      zhihe = True\n"
     ]
    }
   ],
   "source": [
    "import itertools\n",
    "from codex import filters_v3, note\n",
    "\n",
    "base = '04 06 07 14 15 24'\n",
    "int_base = note.Note([int(x) for x in base.split(' ')], [12])\n",
    "fv3 = filters_v3\n",
    "fv3.initialization()\n",
    "fv3_item = fv3.SyntheticFunction()\n",
    "for name, funx in fv3_item.items():\n",
    "    print(f'name: {name :>10} = {funx(int_base)}')\n"
   ]
  },
  {
   "cell_type": "code",
   "execution_count": null,
   "metadata": {},
   "outputs": [],
   "source": [
    "import pathlib, ast\n",
    "from codex import filters_v3, note\n",
    "\n",
    "wlines = []\n",
    "\n",
    "fv3 = filters_v3\n",
    "fv3.initialization()\n",
    "fv3_item = fv3.Checkfunc()\n",
    "\n",
    "outing = pathlib.Path('./outing_id_r_b.log')\n",
    "with outing.open('r') as outlog:\n",
    "    lines = outlog.readlines()\n",
    "    lines = [ast.literal_eval(x) for x in lines]\n",
    "    # (0, [r], [b])\n",
    "for line in lines:\n",
    "    int_base = note.Note(line[1], line[2])\n",
    "    repost = [f'{name}:{funx(int_base)}' for name, funx in fv3_item.items()]\n",
    "    wlines.append(f'{line} > {\",\".join(repost)}\\n')\n",
    "\n",
    "with open('out.log', 'w') as wout:\n",
    "    wout.writelines(wlines)\n"
   ]
  },
  {
   "cell_type": "code",
   "execution_count": null,
   "metadata": {},
   "outputs": [
    {
     "name": "stdout",
     "output_type": "stream",
     "text": [
      "1 2 3 4 7 8 9 10 11 13 14 16 17 19 21 22 23 25 26 27 28 29 31\n"
     ]
    }
   ],
   "source": [
    "base = [x for x in range(1, 32)]\n",
    "input = [5, 6, 12, 15, 18, 20, 24, 30, 33]\n",
    "diff = [x for x in base if x not in input]\n",
    "print(' '.join(map(str, diff)))"
   ]
  },
  {
   "cell_type": "code",
   "execution_count": 1,
   "metadata": {},
   "outputs": [],
   "source": [
    "import itertools, random, pathlib\n",
    "from codex import filters_v3, note\n",
    "\n",
    "fv3 = filters_v3\n",
    "fv3.initialization()\n",
    "fv3_item = fv3.Checkfunc()\n",
    "\n",
    "bit_1 = [1,3,5,7]\n",
    "bit_2 = [7, 15, 23]\n",
    "bit_3 = [8, 17, 20]\n",
    "bit_4 = [6, 10, 17, 22]\n",
    "bit_5 = [8, 12, 22, 24]\n",
    "bit_6 = [32]\n",
    "bit_7 = [13, 5, 6]\n",
    "build = itertools.product(bit_1,bit_2, bit_3, bit_4, bit_5, bit_6)\n",
    "count =0\n",
    "outlpg = pathlib.Path('outlog.log')\n",
    "lines = []\n",
    "for bud in build:\n",
    "    a,b,c,d,e,f = bud\n",
    "    if a < b < c < d < e < f:\n",
    "        n = note.Note([a,b,c,d,e,f], random.choice(bit_7))\n",
    "        status = [func(n) for _, func in fv3_item.items()]\n",
    "        \n",
    "        flg = '*'\n",
    "        match status:\n",
    "            case [True, True, *mz]:\n",
    "                if mz.count(False) > 1:\n",
    "                    flg = 'TT'\n",
    "                else:\n",
    "                    flg = '**'\n",
    "            case [False,_, *mz]:\n",
    "                # print(f'F, _ {filterx}')\n",
    "                flg = 'FT'\n",
    "            case [True, False, *mz]:\n",
    "                # print(f'T, F {filterx}')\n",
    "                flg = 'TF'\n",
    "            case _:\n",
    "                flg = '--'\n",
    "        \n",
    "        lines.append(f'{count+1:02}: {a:02} {b:02} {c:02} {d:02} {e:02} {f:02} + {random.choice(bit_7):02} {flg}\\n')\n",
    "        count+=1\n",
    "        if count %5 == 0 and count != 0:\n",
    "            lines.append('\\n')\n",
    "with outlpg.open('a') as olog:\n",
    "    olog.writelines(lines)\n",
    "        "
   ]
  },
  {
   "cell_type": "code",
   "execution_count": 1,
   "metadata": {},
   "outputs": [],
   "source": [
    "import itertools, random, pathlib\n",
    "from codex import filters_v3, note\n",
    "\n",
    "fv3 = filters_v3\n",
    "fv3.initialization()\n",
    "fv3_item = fv3.Checkfunc()\n",
    "\n",
    "bit_1 = [1, 2, 3, 4, 5, 7, 8]\n",
    "bit_2 = [3, 4, 5, 6, 7, 8, 9, 10, 15]\n",
    "bit_3 = [20, 11, 17, 21, 16, 7, 10, 12, 9, 6, 14, 19, 8 ,22, 18, 13]\n",
    "bit_4 = [9 ,11 ,12 ,14 ,16 ,18 ,19 ,21 ,23 ,25, 26]\n",
    "bit_5 = [17, 19, 21, 23, 25, 27]\n",
    "bit_6 = [32, 33, 31, 30, 27, 24, 20, 25, 23, 22, 28, 29]\n",
    "bit_7 = [3, 4 ,6 ,7 ,8 ,11, 14]\n",
    "build = itertools.product(bit_1,bit_2, bit_3, bit_4, bit_5, bit_6)\n",
    "count =0\n",
    "outlpg = pathlib.Path('outlog.log')\n",
    "lines = []\n",
    "for bud in build:\n",
    "    a,b,c,d,e,f = bud\n",
    "    if a < b < c < d < e < f:\n",
    "        g = random.choice(bit_7)\n",
    "        n = note.Note([a,b,c,d,e,f], g)\n",
    "        status = [func(n) for _, func in fv3_item.items()]\n",
    "        \n",
    "        flg = '*'\n",
    "        match status:\n",
    "            case [True, True, *mz]:\n",
    "                if mz.count(False) > 1:\n",
    "                    flg = 'TT'\n",
    "                else:\n",
    "                    flg = '**'\n",
    "            case [False,_, *mz]:\n",
    "                # print(f'F, _ {filterx}')\n",
    "                flg = 'FT'\n",
    "            case [True, False, *mz]:\n",
    "                # print(f'T, F {filterx}')\n",
    "                flg = 'TF'\n",
    "            case _:\n",
    "                flg = '--'\n",
    "        \n",
    "        lines.append(f'({count}, [{a},{b},{c},{d},{e},{f}], [{g}])\\n')\n",
    "        count+=1\n",
    "with outlpg.open('a') as olog:\n",
    "    olog.writelines(lines)"
   ]
  },
  {
   "cell_type": "code",
   "execution_count": 2,
   "metadata": {},
   "outputs": [
    {
     "name": "stdout",
     "output_type": "stream",
     "text": [
      "px =('a', [1, 2, 3, 4, 5, 6, 7, 8, 9])\n",
      "px =('b', [1, 2, 3, 4, 5, 6, 7, 8, 9])\n",
      "px =('c', [1, 2, 3, 4, 5, 6, 7, 8, 9])\n",
      "px =('d', [1, 2, 3, 4, 5, 6, 7, 8, 9])\n"
     ]
    }
   ],
   "source": [
    "import itertools\n",
    "a = ['a', 'b', 'c', 'd']\n",
    "b = [1,2,3,4,5,6,7,8,9]\n",
    "p = itertools.product(a,[b])\n",
    "for px in p:\n",
    "    print(f'{px =}')"
   ]
  }
 ],
 "metadata": {
  "kernelspec": {
   "display_name": ".venv",
   "language": "python",
   "name": "python3"
  },
  "language_info": {
   "codemirror_mode": {
    "name": "ipython",
    "version": 3
   },
   "file_extension": ".py",
   "mimetype": "text/x-python",
   "name": "python",
   "nbconvert_exporter": "python",
   "pygments_lexer": "ipython3",
   "version": "3.11.0"
  },
  "orig_nbformat": 4,
  "vscode": {
   "interpreter": {
    "hash": "b6dd78632eeeabcc0b6a939f9a3a684bac3c3e7861f49429aad2fc96f9fa9372"
   }
  }
 },
 "nbformat": 4,
 "nbformat_minor": 2
}
