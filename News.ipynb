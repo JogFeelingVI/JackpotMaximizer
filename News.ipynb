{
 "cells": [
  {
   "cell_type": "code",
   "execution_count": 4,
   "metadata": {},
   "outputs": [
    {
     "name": "stdout",
     "output_type": "stream",
     "text": [
      "ifex 000\n"
     ]
    }
   ],
   "source": [
    "import re, random, itertools\n",
    "base = 'asddaijlkjkrnnasidaslkllkdeasd'\n",
    "f = lambda : random.choices(base, k=6)\n",
    "\n",
    "DBASE = '611602513504414405315216116016000300200100'\n",
    "rex = re.compile('[0-6]{3}')\n",
    "diff_date = rex.findall(DBASE)\n",
    "r = 0\n",
    "b = 0\n",
    "key = f'^{r}{b}[0-6]'\n",
    "ifex: str = [x for x in diff_date if re.match(key, x)][0]\n",
    "print(f'ifex {ifex}')"
   ]
  }
 ],
 "metadata": {
  "kernelspec": {
   "display_name": ".venv",
   "language": "python",
   "name": "python3"
  },
  "language_info": {
   "codemirror_mode": {
    "name": "ipython",
    "version": 3
   },
   "file_extension": ".py",
   "mimetype": "text/x-python",
   "name": "python",
   "nbconvert_exporter": "python",
   "pygments_lexer": "ipython3",
   "version": "3.11.8"
  },
  "orig_nbformat": 4,
  "vscode": {
   "interpreter": {
    "hash": "b6dd78632eeeabcc0b6a939f9a3a684bac3c3e7861f49429aad2fc96f9fa9372"
   }
  }
 },
 "nbformat": 4,
 "nbformat_minor": 2
}
