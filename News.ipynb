{
 "cells": [
  {
   "cell_type": "code",
   "execution_count": 5,
   "metadata": {},
   "outputs": [
    {
     "name": "stdout",
     "output_type": "stream",
     "text": [
      "----   1 ----\n",
      "----   2 ----\n",
      "----   3 ----\n",
      "----   4 ----\n",
      "----   5 ----\n",
      "\n",
      "----   6 ----\n",
      "----   7 ----\n",
      "----   8 ----\n",
      "----   9 ----\n",
      "----  10 ----\n",
      "\n",
      "----  11 ----\n",
      "----  10 ----\n"
     ]
    }
   ],
   "source": [
    "import re\n",
    "listx = [1,2,3,4,5,6,7,8,9,10,11,10]\n",
    "index = 1\n",
    "for x in listx:\n",
    "    print(f'---- {x:>3} ----')\n",
    "    if index % 5 ==0:\n",
    "        print(f'')\n",
    "        index = 0\n",
    "    index += 1"
   ]
  }
 ],
 "metadata": {
  "kernelspec": {
   "display_name": ".venv",
   "language": "python",
   "name": "python3"
  },
  "language_info": {
   "codemirror_mode": {
    "name": "ipython",
    "version": 3
   },
   "file_extension": ".py",
   "mimetype": "text/x-python",
   "name": "python",
   "nbconvert_exporter": "python",
   "pygments_lexer": "ipython3",
   "version": "3.11.1"
  },
  "orig_nbformat": 4,
  "vscode": {
   "interpreter": {
    "hash": "01823588b8614517c8dff9356803f8d61695f29c2d037eb8f803351d8eea218c"
   }
  }
 },
 "nbformat": 4,
 "nbformat_minor": 2
}
