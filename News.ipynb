{
 "cells": [
  {
   "cell_type": "code",
   "execution_count": 3,
   "metadata": {},
   "outputs": [
    {
     "name": "stdout",
     "output_type": "stream",
     "text": [
      "name:        dzx = True\n",
      "name:    acvalue = True\n",
      "name:    lianhao = True\n",
      "name:       mod2 = True\n",
      "name:       dx16 = True\n",
      "name:      zhihe = True\n",
      "name:      jmsht = True\n"
     ]
    }
   ],
   "source": [
    "import itertools\n",
    "from codex import filters_v3, note\n",
    "\n",
    "base = '02 04 06 07 16 29'\n",
    "int_base = note.Note([int(x) for x in base.split(' ')], [12])\n",
    "fv3 = filters_v3\n",
    "fv3.initialization()\n",
    "fv3_item = fv3.Checkfunc()\n",
    "for name, funx in fv3_item.items():\n",
    "    print(f'name: {name :>10} = {funx(int_base)}')\n"
   ]
  },
  {
   "cell_type": "code",
   "execution_count": 10,
   "metadata": {},
   "outputs": [
    {
     "name": "stdout",
     "output_type": "stream",
     "text": [
      "idx  312:  [10, 11, 15, 18, 19, 26] + [1]\n"
     ]
    }
   ],
   "source": [
    "import re\n",
    "log_str = '@Last Modified time: 2024-04-28 14:09:02 -> id  312 / cyn {4: 47, 5: 1} * [10, 11, 15, 18, 19, 26] + [1]'\n",
    "match_serach = re.search(r\"id\\s+(\\d+).*\\*(.*)\\s\\+\\s(.*)\", log_str)\n",
    "if match_serach == None:\n",
    "    print(f'None')\n",
    "else:\n",
    "    idx, r, b = match_serach.groups()\n",
    "    print(f'idx {idx:>4}: {r} + {b}')\n"
   ]
  },
  {
   "cell_type": "code",
   "execution_count": null,
   "metadata": {},
   "outputs": [],
   "source": [
    "import pathlib, ast\n",
    "from codex import filters_v3, note\n",
    "\n",
    "wlines = []\n",
    "\n",
    "fv3 = filters_v3\n",
    "fv3.initialization()\n",
    "fv3_item = fv3.Checkfunc()\n",
    "\n",
    "outing = pathlib.Path('./outing_id_r_b.log')\n",
    "with outing.open('r') as outlog:\n",
    "    lines = outlog.readlines()\n",
    "    lines = [ast.literal_eval(x) for x in lines]\n",
    "    # (0, [r], [b])\n",
    "for line in lines:\n",
    "    int_base = note.Note(line[1], line[2])\n",
    "    repost = [f'{name}:{funx(int_base)}' for name, funx in fv3_item.items()]\n",
    "    wlines.append(f'{line} > {\",\".join(repost)}\\n')\n",
    "\n",
    "with open('out.log', 'w') as wout:\n",
    "    wout.writelines(wlines)\n"
   ]
  },
  {
   "cell_type": "code",
   "execution_count": 5,
   "metadata": {},
   "outputs": [],
   "source": [
    "import itertools, random, pathlib\n",
    "from codex import filters_v3, note\n",
    "\n",
    "fv3 = filters_v3\n",
    "fv3.initialization()\n",
    "fv3_item = fv3.Checkfunc()\n",
    "\n",
    "bit_1 = [int(x) for x in '2 4 8 12'.split(' ')]\n",
    "bit_2 = [int(x) for x in '2 3 4 6 10 12 13 16 20 21 23 25 26'.split(' ')]\n",
    "bit_3 = [int(x) for x in '6 14 15 16 18 19 20'.split(' ')]\n",
    "bit_4 = [int(x) for x in '7 22 20 17 19 23 18 21 16 24'.split(' ')]\n",
    "bit_5 = [int(x) for x in '16 26 27 25 28 24 30 23 29'.split(' ')]\n",
    "bit_6 = [30, 29, 28]\n",
    "bit_7 = [13, 5, 3]\n",
    "build = itertools.product(bit_1,bit_2, bit_3, bit_4, bit_5, bit_6)\n",
    "count =0\n",
    "outlpg = pathlib.Path('outlog.log')\n",
    "lines = []\n",
    "for bud in build:\n",
    "    a,b,c,d,e,f = bud\n",
    "    if a < b < c < d < e < f:\n",
    "        n = note.Note([a,b,c,d,e,f], random.choice(bit_7))\n",
    "        status = [func(n) for _, func in fv3_item.items()]\n",
    "        \n",
    "        flg = '*'\n",
    "        match status:\n",
    "            case [True, True, *mz]:\n",
    "                if mz.count(False) > 1:\n",
    "                    flg = 'TT'\n",
    "                else:\n",
    "                    flg = '**'\n",
    "            case [False,_, *mz]:\n",
    "                # print(f'F, _ {filterx}')\n",
    "                flg = 'FT'\n",
    "            case [True, False, *mz]:\n",
    "                # print(f'T, F {filterx}')\n",
    "                flg = 'TF'\n",
    "            case _:\n",
    "                flg = '--'\n",
    "        \n",
    "        lines.append(f'{count+1:02}: {a:02} {b:02} {c:02} {d:02} {e:02} {f:02} + {random.choice(bit_7):02} {flg}\\n')\n",
    "        count+=1\n",
    "        if count %5 == 0 and count != 0:\n",
    "            lines.append('\\n')\n",
    "with outlpg.open('a') as olog:\n",
    "    olog.writelines(lines)\n",
    "        "
   ]
  },
  {
   "cell_type": "code",
   "execution_count": 2,
   "metadata": {},
   "outputs": [],
   "source": [
    "import itertools, random, pathlib\n",
    "from codex import filters_v3, note\n",
    "\n",
    "fv3 = filters_v3\n",
    "fv3.initialization()\n",
    "fv3_item = fv3.Checkfunc()\n",
    "\n",
    "bit_1 = [7]\n",
    "bit_2 = [12,8]\n",
    "bit_3 = [18, 20, 24, 26]\n",
    "bit_4 = [20, 22, 25, 26, 28, 30]\n",
    "bit_5 = range(18, 32)\n",
    "bit_6 = [33, 29, 28,27]\n",
    "bit_7 = [3,5, 11, 13, 15]\n",
    "build = itertools.product(bit_1,bit_2, bit_3, bit_4, bit_5, bit_6)\n",
    "count =0\n",
    "outlpg = pathlib.Path('outlog.log')\n",
    "lines = []\n",
    "for bud in build:\n",
    "    a,b,c,d,e,f = bud\n",
    "    if a < b < c < d < e < f:\n",
    "        g = random.choice(bit_7)\n",
    "        n = note.Note([a,b,c,d,e,f], g)\n",
    "        status = [func(n) for _, func in fv3_item.items()]\n",
    "        \n",
    "        flg = '*'\n",
    "        match status:\n",
    "            case [True, True, *mz]:\n",
    "                if mz.count(False) > 1:\n",
    "                    flg = 'TT'\n",
    "                else:\n",
    "                    flg = '**'\n",
    "            case [False,_, *mz]:\n",
    "                # print(f'F, _ {filterx}')\n",
    "                flg = 'FT'\n",
    "            case [True, False, *mz]:\n",
    "                # print(f'T, F {filterx}')\n",
    "                flg = 'TF'\n",
    "            case _:\n",
    "                flg = '--'\n",
    "        \n",
    "        lines.append(f'({count}, [{a},{b},{c},{d},{e},{f}], [{g}])\\n')\n",
    "        count+=1\n",
    "with outlpg.open('a') as olog:\n",
    "    olog.writelines(lines)"
   ]
  },
  {
   "cell_type": "code",
   "execution_count": 4,
   "metadata": {},
   "outputs": [
    {
     "name": "stdout",
     "output_type": "stream",
     "text": [
      "12 10 0 22\n"
     ]
    },
    {
     "ename": "TypeError",
     "evalue": "sum() takes at most 2 arguments (3 given)",
     "output_type": "error",
     "traceback": [
      "\u001b[0;31m---------------------------------------------------------------------------\u001b[0m",
      "\u001b[0;31mTypeError\u001b[0m                                 Traceback (most recent call last)",
      "Cell \u001b[0;32mIn[4], line 4\u001b[0m\n\u001b[1;32m      2\u001b[0m L4, L5, L6 \u001b[38;5;241m=\u001b[39m n\u001b[38;5;241m.\u001b[39mget(\u001b[38;5;241m4\u001b[39m, \u001b[38;5;241m0\u001b[39m), n\u001b[38;5;241m.\u001b[39mget(\u001b[38;5;241m5\u001b[39m, \u001b[38;5;241m0\u001b[39m), n\u001b[38;5;241m.\u001b[39mget(\u001b[38;5;241m6\u001b[39m, \u001b[38;5;241m0\u001b[39m)\n\u001b[1;32m      3\u001b[0m \u001b[38;5;28mprint\u001b[39m(\u001b[38;5;124mf\u001b[39m\u001b[38;5;124m'\u001b[39m\u001b[38;5;132;01m{\u001b[39;00mL4\u001b[38;5;132;01m}\u001b[39;00m\u001b[38;5;124m \u001b[39m\u001b[38;5;132;01m{\u001b[39;00mL5\u001b[38;5;132;01m}\u001b[39;00m\u001b[38;5;124m \u001b[39m\u001b[38;5;132;01m{\u001b[39;00mL6\u001b[38;5;132;01m}\u001b[39;00m\u001b[38;5;124m \u001b[39m\u001b[38;5;132;01m{\u001b[39;00mL4\u001b[38;5;241m+\u001b[39mL5\u001b[38;5;241m+\u001b[39mL6\u001b[38;5;132;01m}\u001b[39;00m\u001b[38;5;124m'\u001b[39m)\n\u001b[0;32m----> 4\u001b[0m \u001b[38;5;28mprint\u001b[39m(\u001b[38;5;124mf\u001b[39m\u001b[38;5;124m'\u001b[39m\u001b[38;5;132;01m{\u001b[39;00m\u001b[38;5;28;43msum\u001b[39;49m\u001b[43m(\u001b[49m\u001b[43mL4\u001b[49m\u001b[43m,\u001b[49m\u001b[38;5;250;43m \u001b[39;49m\u001b[43mL5\u001b[49m\u001b[43m,\u001b[49m\u001b[43mL6\u001b[49m\u001b[43m)\u001b[49m\u001b[38;5;132;01m}\u001b[39;00m\u001b[38;5;124m'\u001b[39m)\n",
      "\u001b[0;31mTypeError\u001b[0m: sum() takes at most 2 arguments (3 given)"
     ]
    }
   ],
   "source": [
    "n= {4: 12, 5:10}\n",
    "L4, L5, L6 = n.get(4, 0), n.get(5, 0), n.get(6, 0)\n",
    "print(f'{L4} {L5} {L6} {L4+L5+L6}')\n"
   ]
  }
 ],
 "metadata": {
  "kernelspec": {
   "display_name": ".venv",
   "language": "python",
   "name": "python3"
  },
  "language_info": {
   "codemirror_mode": {
    "name": "ipython",
    "version": 3
   },
   "file_extension": ".py",
   "mimetype": "text/x-python",
   "name": "python",
   "nbconvert_exporter": "python",
   "pygments_lexer": "ipython3",
   "version": "3.12.3"
  },
  "orig_nbformat": 4,
  "vscode": {
   "interpreter": {
    "hash": "b6dd78632eeeabcc0b6a939f9a3a684bac3c3e7861f49429aad2fc96f9fa9372"
   }
  }
 },
 "nbformat": 4,
 "nbformat_minor": 2
}
