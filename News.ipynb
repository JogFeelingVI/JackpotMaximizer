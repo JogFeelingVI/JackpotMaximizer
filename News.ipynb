{
 "cells": [
  {
   "cell_type": "code",
   "execution_count": 4,
   "metadata": {},
   "outputs": [
    {
     "ename": "ValueError",
     "evalue": "_sunder_ names, such as '_meta_', are reserved for future Enum use",
     "output_type": "error",
     "traceback": [
      "\u001b[0;31m---------------------------------------------------------------------------\u001b[0m",
      "\u001b[0;31mValueError\u001b[0m                                Traceback (most recent call last)",
      "Cell \u001b[0;32mIn[4], line 3\u001b[0m\n\u001b[1;32m      1\u001b[0m \u001b[39mfrom\u001b[39;00m \u001b[39menum\u001b[39;00m \u001b[39mimport\u001b[39;00m Enum, EnumMeta\n\u001b[0;32m----> 3\u001b[0m \u001b[39mclass\u001b[39;49;00m \u001b[39mColor\u001b[39;49;00m(Enum):\n\u001b[1;32m      4\u001b[0m     RED \u001b[39m=\u001b[39;49m \u001b[39m1\u001b[39;49m\n\u001b[1;32m      5\u001b[0m     GREEN \u001b[39m=\u001b[39;49m \u001b[39m2\u001b[39;49m\n",
      "Cell \u001b[0;32mIn[4], line 8\u001b[0m, in \u001b[0;36mColor\u001b[0;34m()\u001b[0m\n\u001b[1;32m      5\u001b[0m GREEN \u001b[39m=\u001b[39m \u001b[39m2\u001b[39m\n\u001b[1;32m      6\u001b[0m BLUE \u001b[39m=\u001b[39m \u001b[39m3\u001b[39m\n\u001b[0;32m----> 8\u001b[0m _meta_ \u001b[39m=\u001b[39m {\n\u001b[1;32m      9\u001b[0m     \u001b[39m'\u001b[39m\u001b[39mauthor\u001b[39m\u001b[39m'\u001b[39m: \u001b[39m'\u001b[39m\u001b[39mAlice\u001b[39m\u001b[39m'\u001b[39m,\n\u001b[1;32m     10\u001b[0m     \u001b[39m'\u001b[39m\u001b[39mversion\u001b[39m\u001b[39m'\u001b[39m: \u001b[39m1.0\u001b[39m,\n\u001b[1;32m     11\u001b[0m     \u001b[39m'\u001b[39m\u001b[39mdescription\u001b[39m\u001b[39m'\u001b[39m: \u001b[39m'\u001b[39m\u001b[39mThis is a color enum\u001b[39m\u001b[39m'\u001b[39m\n\u001b[1;32m     12\u001b[0m }\n",
      "File \u001b[0;32m~/.pyenv/versions/3.11.0/lib/python3.11/enum.py:378\u001b[0m, in \u001b[0;36m_EnumDict.__setitem__\u001b[0;34m(self, key, value)\u001b[0m\n\u001b[1;32m    372\u001b[0m \u001b[39melif\u001b[39;00m _is_sunder(key):\n\u001b[1;32m    373\u001b[0m     \u001b[39mif\u001b[39;00m key \u001b[39mnot\u001b[39;00m \u001b[39min\u001b[39;00m (\n\u001b[1;32m    374\u001b[0m             \u001b[39m'\u001b[39m\u001b[39m_order_\u001b[39m\u001b[39m'\u001b[39m,\n\u001b[1;32m    375\u001b[0m             \u001b[39m'\u001b[39m\u001b[39m_generate_next_value_\u001b[39m\u001b[39m'\u001b[39m, \u001b[39m'\u001b[39m\u001b[39m_numeric_repr_\u001b[39m\u001b[39m'\u001b[39m, \u001b[39m'\u001b[39m\u001b[39m_missing_\u001b[39m\u001b[39m'\u001b[39m, \u001b[39m'\u001b[39m\u001b[39m_ignore_\u001b[39m\u001b[39m'\u001b[39m,\n\u001b[1;32m    376\u001b[0m             \u001b[39m'\u001b[39m\u001b[39m_iter_member_\u001b[39m\u001b[39m'\u001b[39m, \u001b[39m'\u001b[39m\u001b[39m_iter_member_by_value_\u001b[39m\u001b[39m'\u001b[39m, \u001b[39m'\u001b[39m\u001b[39m_iter_member_by_def_\u001b[39m\u001b[39m'\u001b[39m,\n\u001b[1;32m    377\u001b[0m             ):\n\u001b[0;32m--> 378\u001b[0m         \u001b[39mraise\u001b[39;00m \u001b[39mValueError\u001b[39;00m(\n\u001b[1;32m    379\u001b[0m                 \u001b[39m'\u001b[39m\u001b[39m_sunder_ names, such as \u001b[39m\u001b[39m%r\u001b[39;00m\u001b[39m, are reserved for future Enum use\u001b[39m\u001b[39m'\u001b[39m\n\u001b[1;32m    380\u001b[0m                 \u001b[39m%\u001b[39m (key, )\n\u001b[1;32m    381\u001b[0m                 )\n\u001b[1;32m    382\u001b[0m     \u001b[39mif\u001b[39;00m key \u001b[39m==\u001b[39m \u001b[39m'\u001b[39m\u001b[39m_generate_next_value_\u001b[39m\u001b[39m'\u001b[39m:\n\u001b[1;32m    383\u001b[0m         \u001b[39m# check if members already defined as auto()\u001b[39;00m\n\u001b[1;32m    384\u001b[0m         \u001b[39mif\u001b[39;00m \u001b[39mself\u001b[39m\u001b[39m.\u001b[39m_auto_called:\n",
      "\u001b[0;31mValueError\u001b[0m: _sunder_ names, such as '_meta_', are reserved for future Enum use"
     ]
    }
   ],
   "source": [
    "from enum import Enum, EnumMeta\n",
    "\n",
    "class Color(Enum):\n",
    "    RED = 1\n",
    "    GREEN = 2\n",
    "    BLUE = 3\n",
    "\n",
    "    _meta_ = {\n",
    "        'author': 'Alice',\n",
    "        'version': 1.0,\n",
    "        'description': 'This is a color enum'\n",
    "    }\n",
    "\n",
    "for name, member in Color.__members__.items():\n",
    "    print(name, member, member._meta_)"
   ]
  }
 ],
 "metadata": {
  "kernelspec": {
   "display_name": ".venv",
   "language": "python",
   "name": "python3"
  },
  "language_info": {
   "codemirror_mode": {
    "name": "ipython",
    "version": 3
   },
   "file_extension": ".py",
   "mimetype": "text/x-python",
   "name": "python",
   "nbconvert_exporter": "python",
   "pygments_lexer": "ipython3",
   "version": "3.11.0"
  },
  "orig_nbformat": 4,
  "vscode": {
   "interpreter": {
    "hash": "b6dd78632eeeabcc0b6a939f9a3a684bac3c3e7861f49429aad2fc96f9fa9372"
   }
  }
 },
 "nbformat": 4,
 "nbformat_minor": 2
}
