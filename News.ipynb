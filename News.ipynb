{
 "cells": [
  {
   "cell_type": "code",
   "execution_count": 2,
   "metadata": {},
   "outputs": [
    {
     "name": "stdout",
     "output_type": "stream",
     "text": [
      "key    acvalue True\n",
      "key     coldns True\n",
      "key duplicates True\n",
      "key       dx16 True\n",
      "key        dzx True\n",
      "key    lianhao True\n",
      "key      linma True\n",
      "key       mod2 True\n",
      "key       mod3 True\n",
      "key       mod4 True\n",
      "key       mod5 True\n",
      "key       mod6 True\n",
      "key       mod7 True\n",
      "key onesixdiff True\n",
      "key     sixlan True\n",
      "key      zhihe True\n"
     ]
    }
   ],
   "source": [
    "from codex import filters_v3, note\n",
    "n= [6, 15, 17, 24, 28, 29]\n",
    "t = [16]\n",
    "ns = note.Note(n, t)\n",
    "fter = filters_v3\n",
    "fter.initialization()\n",
    "for k, v in fter.SyntheticFunction().items():\n",
    "    print(f'key {k:>10} {v(ns)}')"
   ]
  }
 ],
 "metadata": {
  "kernelspec": {
   "display_name": ".venv",
   "language": "python",
   "name": "python3"
  },
  "language_info": {
   "codemirror_mode": {
    "name": "ipython",
    "version": 3
   },
   "file_extension": ".py",
   "mimetype": "text/x-python",
   "name": "python",
   "nbconvert_exporter": "python",
   "pygments_lexer": "ipython3",
   "version": "3.11.6"
  },
  "orig_nbformat": 4,
  "vscode": {
   "interpreter": {
    "hash": "b6dd78632eeeabcc0b6a939f9a3a684bac3c3e7861f49429aad2fc96f9fa9372"
   }
  }
 },
 "nbformat": 4,
 "nbformat_minor": 2
}
