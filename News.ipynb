{
 "cells": [
  {
   "cell_type": "code",
   "execution_count": 48,
   "metadata": {},
   "outputs": [
    {
     "name": "stdout",
     "output_type": "stream",
     "text": [
      "set()\n",
      "{19, 21, 8, 24, 26, 15}\n"
     ]
    }
   ],
   "source": [
    "import random\n",
    "\n",
    "# 定义权重，注意权重值的总和应等于权重列表长度\n",
    "weights = []\n",
    "\n",
    "# 生成6个不重复的随机数字\n",
    "numbers = set()\n",
    "print(numbers)\n",
    "while len(numbers) < 6:\n",
    "    selected = random.choices(range(1, 34),  k=6)\n",
    "    numbers |= set(selected)\n",
    "\n",
    "print(numbers)\n"
   ]
  }
 ],
 "metadata": {
  "kernelspec": {
   "display_name": ".venv",
   "language": "python",
   "name": "python3"
  },
  "language_info": {
   "codemirror_mode": {
    "name": "ipython",
    "version": 3
   },
   "file_extension": ".py",
   "mimetype": "text/x-python",
   "name": "python",
   "nbconvert_exporter": "python",
   "pygments_lexer": "ipython3",
   "version": "3.11.0"
  },
  "orig_nbformat": 4,
  "vscode": {
   "interpreter": {
    "hash": "b6dd78632eeeabcc0b6a939f9a3a684bac3c3e7861f49429aad2fc96f9fa9372"
   }
  }
 },
 "nbformat": 4,
 "nbformat_minor": 2
}
