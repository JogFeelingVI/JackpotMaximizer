{
 "cells": [
  {
   "cell_type": "code",
   "execution_count": 51,
   "metadata": {},
   "outputs": [
    {
     "name": "stdout",
     "output_type": "stream",
     "text": [
      "runingtime 0.01 s\n",
      "[6, 7]\n"
     ]
    }
   ],
   "source": [
    "import random, itertools, time\n",
    "\n",
    "dxkey = [x for x in range(1, 34)]\n",
    "t1 = time.perf_counter()\n",
    "N = {1,2,3,4,5,6,7,8,9}\n",
    "L = [7,6,11,14,15,19]\n",
    "for x in range(1, 3000):\n",
    "    #C= N & set(L)\n",
    "    C = [x for x in N if x in L]\n",
    "print(f'runingtime {time.perf_counter() - t1:.2f} s')\n",
    "print(C)\n",
    "\n"
   ]
  }
 ],
 "metadata": {
  "kernelspec": {
   "display_name": ".venv",
   "language": "python",
   "name": "python3"
  },
  "language_info": {
   "codemirror_mode": {
    "name": "ipython",
    "version": 3
   },
   "file_extension": ".py",
   "mimetype": "text/x-python",
   "name": "python",
   "nbconvert_exporter": "python",
   "pygments_lexer": "ipython3",
   "version": "3.11.0"
  },
  "orig_nbformat": 4,
  "vscode": {
   "interpreter": {
    "hash": "b6dd78632eeeabcc0b6a939f9a3a684bac3c3e7861f49429aad2fc96f9fa9372"
   }
  }
 },
 "nbformat": 4,
 "nbformat_minor": 2
}
