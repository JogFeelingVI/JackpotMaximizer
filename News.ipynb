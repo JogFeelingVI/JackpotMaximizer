{
 "cells": [
  {
   "cell_type": "code",
   "execution_count": 5,
   "metadata": {},
   "outputs": [
    {
     "name": "stdout",
     "output_type": "stream",
     "text": [
      "name =    acvalue funx(int_base) = True\n",
      "name =     coldns funx(int_base) = True\n",
      "name = duplicates funx(int_base) = True\n",
      "name =       dx16 funx(int_base) = False\n",
      "name =        dzx funx(int_base) = True\n",
      "name =    lianhao funx(int_base) = True\n",
      "name =      linma funx(int_base) = True\n",
      "name =       mod2 funx(int_base) = True\n",
      "name =       mod3 funx(int_base) = True\n",
      "name =       mod4 funx(int_base) = True\n",
      "name =       mod5 funx(int_base) = True\n",
      "name =       mod6 funx(int_base) = True\n",
      "name =       mod7 funx(int_base) = True\n",
      "name =       mod8 funx(int_base) = True\n",
      "name =       mod9 funx(int_base) = True\n",
      "name = onesixdiff funx(int_base) = True\n",
      "name =     sixlan funx(int_base) = True\n",
      "name =      zhihe funx(int_base) = True\n",
      "[1, 1, 1, 3]\n"
     ]
    }
   ],
   "source": [
    "import itertools\n",
    "from codex import filters_v3, note\n",
    "base = '01 04 05 06 12 14'\n",
    "int_base = note.Note([int(x) for x in base.split(' ')], [12])\n",
    "fv3 = filters_v3\n",
    "fv3.initialization()\n",
    "fv3_item = fv3.SyntheticFunction()\n",
    "for name, funx in fv3_item.items():\n",
    "    print(f'{name = :>10} {funx(int_base) = }')\\\n",
    "        \n",
    "f = [x % 2 for x in int_base.setnumber_R]\n",
    "gby = itertools.groupby(f)\n",
    "print([list(v).__len__() for g, v in gby])"
   ]
  },
  {
   "cell_type": "code",
   "execution_count": 2,
   "metadata": {},
   "outputs": [
    {
     "name": "stdout",
     "output_type": "stream",
     "text": [
      "1 2 3 4 7 8 9 10 11 13 14 16 17 19 21 22 23 25 26 27 28 29 31\n"
     ]
    }
   ],
   "source": [
    "base = [x for x in range(1, 32)]\n",
    "input = [5, 6, 12, 15, 18, 20, 24, 30, 33]\n",
    "diff = [x for x in base if x not in input]\n",
    "print(' '.join(map(str, diff)))"
   ]
  }
 ],
 "metadata": {
  "kernelspec": {
   "display_name": ".venv",
   "language": "python",
   "name": "python3"
  },
  "language_info": {
   "codemirror_mode": {
    "name": "ipython",
    "version": 3
   },
   "file_extension": ".py",
   "mimetype": "text/x-python",
   "name": "python",
   "nbconvert_exporter": "python",
   "pygments_lexer": "ipython3",
   "version": "3.11.8"
  },
  "orig_nbformat": 4,
  "vscode": {
   "interpreter": {
    "hash": "b6dd78632eeeabcc0b6a939f9a3a684bac3c3e7861f49429aad2fc96f9fa9372"
   }
  }
 },
 "nbformat": 4,
 "nbformat_minor": 2
}
