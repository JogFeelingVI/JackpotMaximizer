{
 "cells": [
  {
   "cell_type": "code",
   "execution_count": 26,
   "metadata": {},
   "outputs": [
    {
     "name": "stdout",
     "output_type": "stream",
     "text": [
      "runingtime 0.00 s\n",
      "[1, 2, 3, 4, 5, 6, 7, 8, 9, 10, 11, 12, 13, 14, 15, 16, 17, 18, 19, 20, 21, 22, 23, 25, 26, 27, 28, 29, 30, 31, 32, 33]\n"
     ]
    }
   ],
   "source": [
    "import random, itertools, time\n",
    "\n",
    "# 定义权重，注意权重值的总和应等于权重列表长度\n",
    "keys = [[0,0,0,0,0,0]] * 30\n",
    "dxkey = [x for x in range(1, 34)]\n",
    "for i, v in enumerate(keys):\n",
    "    keys[i] = random.choices(dxkey, k=6)\n",
    "Dx = [y for x in keys for y in x]\n",
    "t1 = time.perf_counter()\n",
    "tmps = list(set(Dx))\n",
    "print(f'runingtime {time.perf_counter() - t1:.2f} s')\n",
    "print(tmps)\n"
   ]
  }
 ],
 "metadata": {
  "kernelspec": {
   "display_name": ".venv",
   "language": "python",
   "name": "python3"
  },
  "language_info": {
   "codemirror_mode": {
    "name": "ipython",
    "version": 3
   },
   "file_extension": ".py",
   "mimetype": "text/x-python",
   "name": "python",
   "nbconvert_exporter": "python",
   "pygments_lexer": "ipython3",
   "version": "3.11.0"
  },
  "orig_nbformat": 4,
  "vscode": {
   "interpreter": {
    "hash": "b6dd78632eeeabcc0b6a939f9a3a684bac3c3e7861f49429aad2fc96f9fa9372"
   }
  }
 },
 "nbformat": 4,
 "nbformat_minor": 2
}
